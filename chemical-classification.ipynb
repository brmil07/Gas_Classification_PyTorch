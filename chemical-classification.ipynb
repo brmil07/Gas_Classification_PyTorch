{
 "cells": [
  {
   "cell_type": "markdown",
   "id": "c3478021",
   "metadata": {
    "papermill": {
     "duration": 0.008841,
     "end_time": "2024-03-06T09:39:22.543027",
     "exception": false,
     "start_time": "2024-03-06T09:39:22.534186",
     "status": "completed"
    },
    "tags": []
   },
   "source": [
    "# **Chemical Classification**\n",
    "---\n",
    "\n",
    "## **Data Preparation**\n",
    "---"
   ]
  },
  {
   "cell_type": "code",
   "execution_count": 1,
   "id": "0d9c1dea",
   "metadata": {
    "_cell_guid": "b1076dfc-b9ad-4769-8c92-a6c4dae69d19",
    "_uuid": "8f2839f25d086af736a60e9eeb907d3b93b6e0e5",
    "execution": {
     "iopub.execute_input": "2024-03-06T09:39:22.560989Z",
     "iopub.status.busy": "2024-03-06T09:39:22.560551Z",
     "iopub.status.idle": "2024-03-06T09:39:23.869064Z",
     "shell.execute_reply": "2024-03-06T09:39:23.868123Z"
    },
    "papermill": {
     "duration": 1.319903,
     "end_time": "2024-03-06T09:39:23.871337",
     "exception": false,
     "start_time": "2024-03-06T09:39:22.551434",
     "status": "completed"
    },
    "tags": []
   },
   "outputs": [
    {
     "name": "stdout",
     "output_type": "stream",
     "text": [
      "/kaggle/input/gas-classification-dataset/chemicals_in_wind_tunnel.csv\n",
      "/kaggle/input/gas-classification-dataset/chemicals_wind_tunnel_3.csv\n"
     ]
    }
   ],
   "source": [
    "# This Python 3 environment comes with many helpful analytics libraries installed\n",
    "# It is defined by the kaggle/python Docker image: https://github.com/kaggle/docker-python\n",
    "# For example, here's several helpful packages to load\n",
    "\n",
    "import numpy as np # linear algebra\n",
    "import pandas as pd # data processing, CSV file I/O (e.g. pd.read_csv)\n",
    "\n",
    "# Input data files are available in the read-only \"../input/\" directory\n",
    "# For example, running this (by clicking run or pressing Shift+Enter) will list all files under the input directory\n",
    "\n",
    "import os\n",
    "for dirname, _, filenames in os.walk('/kaggle/input'):\n",
    "    for filename in filenames:\n",
    "        print(os.path.join(dirname, filename))\n",
    "\n",
    "# You can write up to 20GB to the current directory (/kaggle/working/) that gets preserved as output when you create a version using \"Save & Run All\" \n",
    "# You can also write temporary files to /kaggle/temp/, but they won't be saved outside of the current session"
   ]
  },
  {
   "cell_type": "markdown",
   "id": "f79515d2",
   "metadata": {
    "papermill": {
     "duration": 0.007133,
     "end_time": "2024-03-06T09:39:23.885875",
     "exception": false,
     "start_time": "2024-03-06T09:39:23.878742",
     "status": "completed"
    },
    "tags": []
   },
   "source": [
    "## **Importing the Libraries**\n",
    "---"
   ]
  },
  {
   "cell_type": "code",
   "execution_count": 2,
   "id": "5608fe47",
   "metadata": {
    "execution": {
     "iopub.execute_input": "2024-03-06T09:39:23.902032Z",
     "iopub.status.busy": "2024-03-06T09:39:23.901653Z",
     "iopub.status.idle": "2024-03-06T09:39:26.878913Z",
     "shell.execute_reply": "2024-03-06T09:39:26.878104Z"
    },
    "papermill": {
     "duration": 2.988295,
     "end_time": "2024-03-06T09:39:26.881325",
     "exception": false,
     "start_time": "2024-03-06T09:39:23.893030",
     "status": "completed"
    },
    "tags": []
   },
   "outputs": [],
   "source": [
    "import matplotlib.pyplot as plt\n",
    "import seaborn as sns\n",
    "\n",
    "from sklearn.preprocessing import LabelEncoder\n",
    "from sklearn.model_selection import train_test_split\n",
    "from sklearn.ensemble import RandomForestClassifier\n",
    "from sklearn.metrics import accuracy_score, confusion_matrix, classification_report"
   ]
  },
  {
   "cell_type": "markdown",
   "id": "7ee7d05f",
   "metadata": {
    "papermill": {
     "duration": 0.007068,
     "end_time": "2024-03-06T09:39:26.895979",
     "exception": false,
     "start_time": "2024-03-06T09:39:26.888911",
     "status": "completed"
    },
    "tags": []
   },
   "source": [
    "# **Exploratory Data Analysis**\n",
    "---"
   ]
  },
  {
   "cell_type": "code",
   "execution_count": 3,
   "id": "dea72eed",
   "metadata": {
    "execution": {
     "iopub.execute_input": "2024-03-06T09:39:26.911757Z",
     "iopub.status.busy": "2024-03-06T09:39:26.911333Z",
     "iopub.status.idle": "2024-03-06T09:39:29.088107Z",
     "shell.execute_reply": "2024-03-06T09:39:29.087316Z"
    },
    "papermill": {
     "duration": 2.187434,
     "end_time": "2024-03-06T09:39:29.090520",
     "exception": false,
     "start_time": "2024-03-06T09:39:26.903086",
     "status": "completed"
    },
    "tags": []
   },
   "outputs": [],
   "source": [
    "df = pd.read_csv('/kaggle/input/gas-classification-dataset/chemicals_in_wind_tunnel.csv', index_col=0)"
   ]
  },
  {
   "cell_type": "code",
   "execution_count": 4,
   "id": "c97396bc",
   "metadata": {
    "execution": {
     "iopub.execute_input": "2024-03-06T09:39:29.107065Z",
     "iopub.status.busy": "2024-03-06T09:39:29.106772Z",
     "iopub.status.idle": "2024-03-06T09:39:29.144974Z",
     "shell.execute_reply": "2024-03-06T09:39:29.143869Z"
    },
    "papermill": {
     "duration": 0.048553,
     "end_time": "2024-03-06T09:39:29.146909",
     "exception": false,
     "start_time": "2024-03-06T09:39:29.098356",
     "status": "completed"
    },
    "tags": []
   },
   "outputs": [
    {
     "name": "stdout",
     "output_type": "stream",
     "text": [
      "<class 'pandas.core.frame.DataFrame'>\n",
      "Index: 17921 entries, 0 to 17920\n",
      "Columns: 289 entries, mean_A1 to Chemical\n",
      "dtypes: float64(288), object(1)\n",
      "memory usage: 39.7+ MB\n"
     ]
    }
   ],
   "source": [
    "df.info()"
   ]
  },
  {
   "cell_type": "code",
   "execution_count": 5,
   "id": "c86131c4",
   "metadata": {
    "execution": {
     "iopub.execute_input": "2024-03-06T09:39:29.162602Z",
     "iopub.status.busy": "2024-03-06T09:39:29.162335Z",
     "iopub.status.idle": "2024-03-06T09:39:29.194577Z",
     "shell.execute_reply": "2024-03-06T09:39:29.193777Z"
    },
    "papermill": {
     "duration": 0.042585,
     "end_time": "2024-03-06T09:39:29.196719",
     "exception": false,
     "start_time": "2024-03-06T09:39:29.154134",
     "status": "completed"
    },
    "tags": []
   },
   "outputs": [
    {
     "data": {
      "text/html": [
       "<div>\n",
       "<style scoped>\n",
       "    .dataframe tbody tr th:only-of-type {\n",
       "        vertical-align: middle;\n",
       "    }\n",
       "\n",
       "    .dataframe tbody tr th {\n",
       "        vertical-align: top;\n",
       "    }\n",
       "\n",
       "    .dataframe thead th {\n",
       "        text-align: right;\n",
       "    }\n",
       "</style>\n",
       "<table border=\"1\" class=\"dataframe\">\n",
       "  <thead>\n",
       "    <tr style=\"text-align: right;\">\n",
       "      <th></th>\n",
       "      <th>mean_A1</th>\n",
       "      <th>mean_A2</th>\n",
       "      <th>mean_A3</th>\n",
       "      <th>mean_A4</th>\n",
       "      <th>mean_A5</th>\n",
       "      <th>mean_A6</th>\n",
       "      <th>mean_A7</th>\n",
       "      <th>mean_A8</th>\n",
       "      <th>mean_B1</th>\n",
       "      <th>mean_B2</th>\n",
       "      <th>...</th>\n",
       "      <th>max_H8</th>\n",
       "      <th>max_I1</th>\n",
       "      <th>max_I2</th>\n",
       "      <th>max_I3</th>\n",
       "      <th>max_I4</th>\n",
       "      <th>max_I5</th>\n",
       "      <th>max_I6</th>\n",
       "      <th>max_I7</th>\n",
       "      <th>max_I8</th>\n",
       "      <th>Chemical</th>\n",
       "    </tr>\n",
       "  </thead>\n",
       "  <tbody>\n",
       "    <tr>\n",
       "      <th>0</th>\n",
       "      <td>0.110274</td>\n",
       "      <td>0.100774</td>\n",
       "      <td>0.177316</td>\n",
       "      <td>0.081529</td>\n",
       "      <td>0.225642</td>\n",
       "      <td>0.254600</td>\n",
       "      <td>0.250679</td>\n",
       "      <td>0.239913</td>\n",
       "      <td>0.070038</td>\n",
       "      <td>0.088185</td>\n",
       "      <td>...</td>\n",
       "      <td>0.213135</td>\n",
       "      <td>0.074219</td>\n",
       "      <td>0.071777</td>\n",
       "      <td>0.115723</td>\n",
       "      <td>0.097656</td>\n",
       "      <td>0.201172</td>\n",
       "      <td>0.178223</td>\n",
       "      <td>0.232178</td>\n",
       "      <td>0.253662</td>\n",
       "      <td>Acetaldehyde_500</td>\n",
       "    </tr>\n",
       "    <tr>\n",
       "      <th>1</th>\n",
       "      <td>0.114903</td>\n",
       "      <td>0.117785</td>\n",
       "      <td>0.187970</td>\n",
       "      <td>0.097983</td>\n",
       "      <td>0.213534</td>\n",
       "      <td>0.242186</td>\n",
       "      <td>0.238034</td>\n",
       "      <td>0.228992</td>\n",
       "      <td>0.075349</td>\n",
       "      <td>0.104410</td>\n",
       "      <td>...</td>\n",
       "      <td>0.200684</td>\n",
       "      <td>0.079346</td>\n",
       "      <td>0.084229</td>\n",
       "      <td>0.125000</td>\n",
       "      <td>0.107178</td>\n",
       "      <td>0.195557</td>\n",
       "      <td>0.172119</td>\n",
       "      <td>0.225098</td>\n",
       "      <td>0.246826</td>\n",
       "      <td>Acetaldehyde_500</td>\n",
       "    </tr>\n",
       "    <tr>\n",
       "      <th>2</th>\n",
       "      <td>0.118138</td>\n",
       "      <td>0.128888</td>\n",
       "      <td>0.195197</td>\n",
       "      <td>0.110886</td>\n",
       "      <td>0.204072</td>\n",
       "      <td>0.232273</td>\n",
       "      <td>0.229351</td>\n",
       "      <td>0.221341</td>\n",
       "      <td>0.082085</td>\n",
       "      <td>0.122991</td>\n",
       "      <td>...</td>\n",
       "      <td>0.194580</td>\n",
       "      <td>0.084717</td>\n",
       "      <td>0.100098</td>\n",
       "      <td>0.135010</td>\n",
       "      <td>0.132080</td>\n",
       "      <td>0.181396</td>\n",
       "      <td>0.159180</td>\n",
       "      <td>0.210938</td>\n",
       "      <td>0.231445</td>\n",
       "      <td>Acetaldehyde_500</td>\n",
       "    </tr>\n",
       "    <tr>\n",
       "      <th>3</th>\n",
       "      <td>0.123282</td>\n",
       "      <td>0.143118</td>\n",
       "      <td>0.204956</td>\n",
       "      <td>0.127255</td>\n",
       "      <td>0.196539</td>\n",
       "      <td>0.224175</td>\n",
       "      <td>0.220981</td>\n",
       "      <td>0.213877</td>\n",
       "      <td>0.089352</td>\n",
       "      <td>0.139451</td>\n",
       "      <td>...</td>\n",
       "      <td>0.186768</td>\n",
       "      <td>0.088623</td>\n",
       "      <td>0.109375</td>\n",
       "      <td>0.140869</td>\n",
       "      <td>0.148682</td>\n",
       "      <td>0.166992</td>\n",
       "      <td>0.146729</td>\n",
       "      <td>0.197021</td>\n",
       "      <td>0.215576</td>\n",
       "      <td>Acetaldehyde_500</td>\n",
       "    </tr>\n",
       "    <tr>\n",
       "      <th>4</th>\n",
       "      <td>0.130403</td>\n",
       "      <td>0.159920</td>\n",
       "      <td>0.216208</td>\n",
       "      <td>0.146859</td>\n",
       "      <td>0.188552</td>\n",
       "      <td>0.215028</td>\n",
       "      <td>0.211930</td>\n",
       "      <td>0.205568</td>\n",
       "      <td>0.098506</td>\n",
       "      <td>0.157591</td>\n",
       "      <td>...</td>\n",
       "      <td>0.176270</td>\n",
       "      <td>0.091553</td>\n",
       "      <td>0.117676</td>\n",
       "      <td>0.145752</td>\n",
       "      <td>0.161865</td>\n",
       "      <td>0.157227</td>\n",
       "      <td>0.138184</td>\n",
       "      <td>0.185791</td>\n",
       "      <td>0.203369</td>\n",
       "      <td>Acetaldehyde_500</td>\n",
       "    </tr>\n",
       "  </tbody>\n",
       "</table>\n",
       "<p>5 rows × 289 columns</p>\n",
       "</div>"
      ],
      "text/plain": [
       "    mean_A1   mean_A2   mean_A3   mean_A4   mean_A5   mean_A6   mean_A7  \\\n",
       "0  0.110274  0.100774  0.177316  0.081529  0.225642  0.254600  0.250679   \n",
       "1  0.114903  0.117785  0.187970  0.097983  0.213534  0.242186  0.238034   \n",
       "2  0.118138  0.128888  0.195197  0.110886  0.204072  0.232273  0.229351   \n",
       "3  0.123282  0.143118  0.204956  0.127255  0.196539  0.224175  0.220981   \n",
       "4  0.130403  0.159920  0.216208  0.146859  0.188552  0.215028  0.211930   \n",
       "\n",
       "    mean_A8   mean_B1   mean_B2  ...    max_H8    max_I1    max_I2    max_I3  \\\n",
       "0  0.239913  0.070038  0.088185  ...  0.213135  0.074219  0.071777  0.115723   \n",
       "1  0.228992  0.075349  0.104410  ...  0.200684  0.079346  0.084229  0.125000   \n",
       "2  0.221341  0.082085  0.122991  ...  0.194580  0.084717  0.100098  0.135010   \n",
       "3  0.213877  0.089352  0.139451  ...  0.186768  0.088623  0.109375  0.140869   \n",
       "4  0.205568  0.098506  0.157591  ...  0.176270  0.091553  0.117676  0.145752   \n",
       "\n",
       "     max_I4    max_I5    max_I6    max_I7    max_I8          Chemical  \n",
       "0  0.097656  0.201172  0.178223  0.232178  0.253662  Acetaldehyde_500  \n",
       "1  0.107178  0.195557  0.172119  0.225098  0.246826  Acetaldehyde_500  \n",
       "2  0.132080  0.181396  0.159180  0.210938  0.231445  Acetaldehyde_500  \n",
       "3  0.148682  0.166992  0.146729  0.197021  0.215576  Acetaldehyde_500  \n",
       "4  0.161865  0.157227  0.138184  0.185791  0.203369  Acetaldehyde_500  \n",
       "\n",
       "[5 rows x 289 columns]"
      ]
     },
     "execution_count": 5,
     "metadata": {},
     "output_type": "execute_result"
    }
   ],
   "source": [
    "df.head()"
   ]
  },
  {
   "cell_type": "code",
   "execution_count": 6,
   "id": "ef6b50b1",
   "metadata": {
    "execution": {
     "iopub.execute_input": "2024-03-06T09:39:29.214754Z",
     "iopub.status.busy": "2024-03-06T09:39:29.214496Z",
     "iopub.status.idle": "2024-03-06T09:39:29.879218Z",
     "shell.execute_reply": "2024-03-06T09:39:29.878241Z"
    },
    "papermill": {
     "duration": 0.67556,
     "end_time": "2024-03-06T09:39:29.881515",
     "exception": false,
     "start_time": "2024-03-06T09:39:29.205955",
     "status": "completed"
    },
    "tags": []
   },
   "outputs": [
    {
     "data": {
      "text/html": [
       "<div>\n",
       "<style scoped>\n",
       "    .dataframe tbody tr th:only-of-type {\n",
       "        vertical-align: middle;\n",
       "    }\n",
       "\n",
       "    .dataframe tbody tr th {\n",
       "        vertical-align: top;\n",
       "    }\n",
       "\n",
       "    .dataframe thead th {\n",
       "        text-align: right;\n",
       "    }\n",
       "</style>\n",
       "<table border=\"1\" class=\"dataframe\">\n",
       "  <thead>\n",
       "    <tr style=\"text-align: right;\">\n",
       "      <th></th>\n",
       "      <th>mean_A1</th>\n",
       "      <th>mean_A2</th>\n",
       "      <th>mean_A3</th>\n",
       "      <th>mean_A4</th>\n",
       "      <th>mean_A5</th>\n",
       "      <th>mean_A6</th>\n",
       "      <th>mean_A7</th>\n",
       "      <th>mean_A8</th>\n",
       "      <th>mean_B1</th>\n",
       "      <th>mean_B2</th>\n",
       "      <th>...</th>\n",
       "      <th>max_H7</th>\n",
       "      <th>max_H8</th>\n",
       "      <th>max_I1</th>\n",
       "      <th>max_I2</th>\n",
       "      <th>max_I3</th>\n",
       "      <th>max_I4</th>\n",
       "      <th>max_I5</th>\n",
       "      <th>max_I6</th>\n",
       "      <th>max_I7</th>\n",
       "      <th>max_I8</th>\n",
       "    </tr>\n",
       "  </thead>\n",
       "  <tbody>\n",
       "    <tr>\n",
       "      <th>count</th>\n",
       "      <td>17921.000000</td>\n",
       "      <td>17921.000000</td>\n",
       "      <td>17921.000000</td>\n",
       "      <td>17921.000000</td>\n",
       "      <td>17921.000000</td>\n",
       "      <td>17921.000000</td>\n",
       "      <td>17921.000000</td>\n",
       "      <td>17921.000000</td>\n",
       "      <td>17921.000000</td>\n",
       "      <td>17921.000000</td>\n",
       "      <td>...</td>\n",
       "      <td>17921.000000</td>\n",
       "      <td>17921.000000</td>\n",
       "      <td>17921.000000</td>\n",
       "      <td>17921.000000</td>\n",
       "      <td>17921.000000</td>\n",
       "      <td>17921.000000</td>\n",
       "      <td>17921.000000</td>\n",
       "      <td>17921.000000</td>\n",
       "      <td>17921.000000</td>\n",
       "      <td>17921.000000</td>\n",
       "    </tr>\n",
       "    <tr>\n",
       "      <th>mean</th>\n",
       "      <td>0.113816</td>\n",
       "      <td>0.125939</td>\n",
       "      <td>0.188913</td>\n",
       "      <td>0.104609</td>\n",
       "      <td>0.196204</td>\n",
       "      <td>0.222991</td>\n",
       "      <td>0.216332</td>\n",
       "      <td>0.208546</td>\n",
       "      <td>0.076995</td>\n",
       "      <td>0.120509</td>\n",
       "      <td>...</td>\n",
       "      <td>0.192296</td>\n",
       "      <td>0.185549</td>\n",
       "      <td>0.081673</td>\n",
       "      <td>0.097353</td>\n",
       "      <td>0.130306</td>\n",
       "      <td>0.135430</td>\n",
       "      <td>0.173226</td>\n",
       "      <td>0.150823</td>\n",
       "      <td>0.202596</td>\n",
       "      <td>0.222015</td>\n",
       "    </tr>\n",
       "    <tr>\n",
       "      <th>std</th>\n",
       "      <td>0.015489</td>\n",
       "      <td>0.027048</td>\n",
       "      <td>0.021832</td>\n",
       "      <td>0.037621</td>\n",
       "      <td>0.018407</td>\n",
       "      <td>0.019773</td>\n",
       "      <td>0.023462</td>\n",
       "      <td>0.021739</td>\n",
       "      <td>0.010679</td>\n",
       "      <td>0.023314</td>\n",
       "      <td>...</td>\n",
       "      <td>0.020706</td>\n",
       "      <td>0.021684</td>\n",
       "      <td>0.010145</td>\n",
       "      <td>0.018497</td>\n",
       "      <td>0.015155</td>\n",
       "      <td>0.046745</td>\n",
       "      <td>0.019832</td>\n",
       "      <td>0.017740</td>\n",
       "      <td>0.021411</td>\n",
       "      <td>0.022932</td>\n",
       "    </tr>\n",
       "    <tr>\n",
       "      <th>min</th>\n",
       "      <td>0.077624</td>\n",
       "      <td>0.066902</td>\n",
       "      <td>0.135246</td>\n",
       "      <td>0.030522</td>\n",
       "      <td>0.137013</td>\n",
       "      <td>0.152955</td>\n",
       "      <td>0.132964</td>\n",
       "      <td>0.129567</td>\n",
       "      <td>0.049982</td>\n",
       "      <td>0.069073</td>\n",
       "      <td>...</td>\n",
       "      <td>0.131592</td>\n",
       "      <td>0.121094</td>\n",
       "      <td>0.058350</td>\n",
       "      <td>0.055420</td>\n",
       "      <td>0.093018</td>\n",
       "      <td>0.056641</td>\n",
       "      <td>0.127930</td>\n",
       "      <td>0.110352</td>\n",
       "      <td>0.152832</td>\n",
       "      <td>0.166748</td>\n",
       "    </tr>\n",
       "    <tr>\n",
       "      <th>25%</th>\n",
       "      <td>0.103377</td>\n",
       "      <td>0.105660</td>\n",
       "      <td>0.173425</td>\n",
       "      <td>0.079346</td>\n",
       "      <td>0.183695</td>\n",
       "      <td>0.209859</td>\n",
       "      <td>0.202844</td>\n",
       "      <td>0.196144</td>\n",
       "      <td>0.068934</td>\n",
       "      <td>0.102492</td>\n",
       "      <td>...</td>\n",
       "      <td>0.178223</td>\n",
       "      <td>0.171143</td>\n",
       "      <td>0.075684</td>\n",
       "      <td>0.084473</td>\n",
       "      <td>0.120850</td>\n",
       "      <td>0.106689</td>\n",
       "      <td>0.158447</td>\n",
       "      <td>0.137695</td>\n",
       "      <td>0.186523</td>\n",
       "      <td>0.204590</td>\n",
       "    </tr>\n",
       "    <tr>\n",
       "      <th>50%</th>\n",
       "      <td>0.112461</td>\n",
       "      <td>0.124970</td>\n",
       "      <td>0.187662</td>\n",
       "      <td>0.101362</td>\n",
       "      <td>0.195725</td>\n",
       "      <td>0.222803</td>\n",
       "      <td>0.216507</td>\n",
       "      <td>0.208827</td>\n",
       "      <td>0.076428</td>\n",
       "      <td>0.120534</td>\n",
       "      <td>...</td>\n",
       "      <td>0.192139</td>\n",
       "      <td>0.185303</td>\n",
       "      <td>0.081055</td>\n",
       "      <td>0.097656</td>\n",
       "      <td>0.130127</td>\n",
       "      <td>0.129150</td>\n",
       "      <td>0.171631</td>\n",
       "      <td>0.149170</td>\n",
       "      <td>0.201172</td>\n",
       "      <td>0.220703</td>\n",
       "    </tr>\n",
       "    <tr>\n",
       "      <th>75%</th>\n",
       "      <td>0.122558</td>\n",
       "      <td>0.143799</td>\n",
       "      <td>0.202221</td>\n",
       "      <td>0.123404</td>\n",
       "      <td>0.208651</td>\n",
       "      <td>0.236664</td>\n",
       "      <td>0.232265</td>\n",
       "      <td>0.222998</td>\n",
       "      <td>0.084786</td>\n",
       "      <td>0.138713</td>\n",
       "      <td>...</td>\n",
       "      <td>0.206299</td>\n",
       "      <td>0.200439</td>\n",
       "      <td>0.086426</td>\n",
       "      <td>0.109619</td>\n",
       "      <td>0.138672</td>\n",
       "      <td>0.152100</td>\n",
       "      <td>0.186279</td>\n",
       "      <td>0.162598</td>\n",
       "      <td>0.217041</td>\n",
       "      <td>0.237549</td>\n",
       "    </tr>\n",
       "    <tr>\n",
       "      <th>max</th>\n",
       "      <td>0.211024</td>\n",
       "      <td>0.310942</td>\n",
       "      <td>0.309874</td>\n",
       "      <td>0.597236</td>\n",
       "      <td>0.438342</td>\n",
       "      <td>0.469775</td>\n",
       "      <td>0.472173</td>\n",
       "      <td>0.460584</td>\n",
       "      <td>0.128835</td>\n",
       "      <td>0.179745</td>\n",
       "      <td>...</td>\n",
       "      <td>0.443848</td>\n",
       "      <td>0.433838</td>\n",
       "      <td>0.156006</td>\n",
       "      <td>0.201904</td>\n",
       "      <td>0.229004</td>\n",
       "      <td>0.658691</td>\n",
       "      <td>0.404541</td>\n",
       "      <td>0.373291</td>\n",
       "      <td>0.445312</td>\n",
       "      <td>0.466309</td>\n",
       "    </tr>\n",
       "  </tbody>\n",
       "</table>\n",
       "<p>8 rows × 288 columns</p>\n",
       "</div>"
      ],
      "text/plain": [
       "            mean_A1       mean_A2       mean_A3       mean_A4       mean_A5  \\\n",
       "count  17921.000000  17921.000000  17921.000000  17921.000000  17921.000000   \n",
       "mean       0.113816      0.125939      0.188913      0.104609      0.196204   \n",
       "std        0.015489      0.027048      0.021832      0.037621      0.018407   \n",
       "min        0.077624      0.066902      0.135246      0.030522      0.137013   \n",
       "25%        0.103377      0.105660      0.173425      0.079346      0.183695   \n",
       "50%        0.112461      0.124970      0.187662      0.101362      0.195725   \n",
       "75%        0.122558      0.143799      0.202221      0.123404      0.208651   \n",
       "max        0.211024      0.310942      0.309874      0.597236      0.438342   \n",
       "\n",
       "            mean_A6       mean_A7       mean_A8       mean_B1       mean_B2  \\\n",
       "count  17921.000000  17921.000000  17921.000000  17921.000000  17921.000000   \n",
       "mean       0.222991      0.216332      0.208546      0.076995      0.120509   \n",
       "std        0.019773      0.023462      0.021739      0.010679      0.023314   \n",
       "min        0.152955      0.132964      0.129567      0.049982      0.069073   \n",
       "25%        0.209859      0.202844      0.196144      0.068934      0.102492   \n",
       "50%        0.222803      0.216507      0.208827      0.076428      0.120534   \n",
       "75%        0.236664      0.232265      0.222998      0.084786      0.138713   \n",
       "max        0.469775      0.472173      0.460584      0.128835      0.179745   \n",
       "\n",
       "       ...        max_H7        max_H8        max_I1        max_I2  \\\n",
       "count  ...  17921.000000  17921.000000  17921.000000  17921.000000   \n",
       "mean   ...      0.192296      0.185549      0.081673      0.097353   \n",
       "std    ...      0.020706      0.021684      0.010145      0.018497   \n",
       "min    ...      0.131592      0.121094      0.058350      0.055420   \n",
       "25%    ...      0.178223      0.171143      0.075684      0.084473   \n",
       "50%    ...      0.192139      0.185303      0.081055      0.097656   \n",
       "75%    ...      0.206299      0.200439      0.086426      0.109619   \n",
       "max    ...      0.443848      0.433838      0.156006      0.201904   \n",
       "\n",
       "             max_I3        max_I4        max_I5        max_I6        max_I7  \\\n",
       "count  17921.000000  17921.000000  17921.000000  17921.000000  17921.000000   \n",
       "mean       0.130306      0.135430      0.173226      0.150823      0.202596   \n",
       "std        0.015155      0.046745      0.019832      0.017740      0.021411   \n",
       "min        0.093018      0.056641      0.127930      0.110352      0.152832   \n",
       "25%        0.120850      0.106689      0.158447      0.137695      0.186523   \n",
       "50%        0.130127      0.129150      0.171631      0.149170      0.201172   \n",
       "75%        0.138672      0.152100      0.186279      0.162598      0.217041   \n",
       "max        0.229004      0.658691      0.404541      0.373291      0.445312   \n",
       "\n",
       "             max_I8  \n",
       "count  17921.000000  \n",
       "mean       0.222015  \n",
       "std        0.022932  \n",
       "min        0.166748  \n",
       "25%        0.204590  \n",
       "50%        0.220703  \n",
       "75%        0.237549  \n",
       "max        0.466309  \n",
       "\n",
       "[8 rows x 288 columns]"
      ]
     },
     "execution_count": 6,
     "metadata": {},
     "output_type": "execute_result"
    }
   ],
   "source": [
    "df.describe()"
   ]
  },
  {
   "cell_type": "code",
   "execution_count": 7,
   "id": "e722d32b",
   "metadata": {
    "execution": {
     "iopub.execute_input": "2024-03-06T09:39:29.901862Z",
     "iopub.status.busy": "2024-03-06T09:39:29.901584Z",
     "iopub.status.idle": "2024-03-06T09:39:30.102297Z",
     "shell.execute_reply": "2024-03-06T09:39:30.101314Z"
    },
    "papermill": {
     "duration": 0.213237,
     "end_time": "2024-03-06T09:39:30.104390",
     "exception": false,
     "start_time": "2024-03-06T09:39:29.891153",
     "status": "completed"
    },
    "tags": []
   },
   "outputs": [
    {
     "data": {
      "text/plain": [
       "0"
      ]
     },
     "execution_count": 7,
     "metadata": {},
     "output_type": "execute_result"
    }
   ],
   "source": [
    "# Check for duplicates\n",
    "df.duplicated().sum()"
   ]
  },
  {
   "cell_type": "code",
   "execution_count": 8,
   "id": "337e2988",
   "metadata": {
    "execution": {
     "iopub.execute_input": "2024-03-06T09:39:30.122602Z",
     "iopub.status.busy": "2024-03-06T09:39:30.122300Z",
     "iopub.status.idle": "2024-03-06T09:39:30.137901Z",
     "shell.execute_reply": "2024-03-06T09:39:30.137127Z"
    },
    "papermill": {
     "duration": 0.027206,
     "end_time": "2024-03-06T09:39:30.140212",
     "exception": false,
     "start_time": "2024-03-06T09:39:30.113006",
     "status": "completed"
    },
    "tags": []
   },
   "outputs": [
    {
     "data": {
      "text/plain": [
       "mean_A1     0\n",
       "mean_A2     0\n",
       "mean_A3     0\n",
       "mean_A4     0\n",
       "mean_A5     0\n",
       "           ..\n",
       "max_I5      0\n",
       "max_I6      0\n",
       "max_I7      0\n",
       "max_I8      0\n",
       "Chemical    0\n",
       "Length: 289, dtype: int64"
      ]
     },
     "execution_count": 8,
     "metadata": {},
     "output_type": "execute_result"
    }
   ],
   "source": [
    "# Check for missing values\n",
    "df.isna().sum()"
   ]
  },
  {
   "cell_type": "code",
   "execution_count": 9,
   "id": "3db408df",
   "metadata": {
    "execution": {
     "iopub.execute_input": "2024-03-06T09:39:30.159160Z",
     "iopub.status.busy": "2024-03-06T09:39:30.158888Z",
     "iopub.status.idle": "2024-03-06T09:39:30.180867Z",
     "shell.execute_reply": "2024-03-06T09:39:30.179858Z"
    },
    "papermill": {
     "duration": 0.03391,
     "end_time": "2024-03-06T09:39:30.183119",
     "exception": false,
     "start_time": "2024-03-06T09:39:30.149209",
     "status": "completed"
    },
    "tags": []
   },
   "outputs": [
    {
     "data": {
      "text/html": [
       "<div>\n",
       "<style scoped>\n",
       "    .dataframe tbody tr th:only-of-type {\n",
       "        vertical-align: middle;\n",
       "    }\n",
       "\n",
       "    .dataframe tbody tr th {\n",
       "        vertical-align: top;\n",
       "    }\n",
       "\n",
       "    .dataframe thead th {\n",
       "        text-align: right;\n",
       "    }\n",
       "</style>\n",
       "<table border=\"1\" class=\"dataframe\">\n",
       "  <thead>\n",
       "    <tr style=\"text-align: right;\">\n",
       "      <th></th>\n",
       "      <th>mean_A1</th>\n",
       "      <th>mean_A2</th>\n",
       "      <th>mean_A3</th>\n",
       "      <th>mean_A4</th>\n",
       "      <th>mean_A5</th>\n",
       "      <th>mean_A6</th>\n",
       "      <th>mean_A7</th>\n",
       "      <th>mean_A8</th>\n",
       "      <th>mean_B1</th>\n",
       "      <th>mean_B2</th>\n",
       "      <th>...</th>\n",
       "      <th>max_H8</th>\n",
       "      <th>max_I1</th>\n",
       "      <th>max_I2</th>\n",
       "      <th>max_I3</th>\n",
       "      <th>max_I4</th>\n",
       "      <th>max_I5</th>\n",
       "      <th>max_I6</th>\n",
       "      <th>max_I7</th>\n",
       "      <th>max_I8</th>\n",
       "      <th>Chemical</th>\n",
       "    </tr>\n",
       "  </thead>\n",
       "  <tbody>\n",
       "  </tbody>\n",
       "</table>\n",
       "<p>0 rows × 289 columns</p>\n",
       "</div>"
      ],
      "text/plain": [
       "Empty DataFrame\n",
       "Columns: [mean_A1, mean_A2, mean_A3, mean_A4, mean_A5, mean_A6, mean_A7, mean_A8, mean_B1, mean_B2, mean_B3, mean_B4, mean_B5, mean_B6, mean_B7, mean_B8, mean_C1, mean_C2, mean_C3, mean_C4, mean_C5, mean_C6, mean_C7, mean_C8, mean_D1, mean_D2, mean_D3, mean_D4, mean_D5, mean_D6, mean_D7, mean_D8, mean_E1, mean_E2, mean_E3, mean_E4, mean_E5, mean_E6, mean_E7, mean_E8, mean_F1, mean_F2, mean_F3, mean_F4, mean_F5, mean_F6, mean_F7, mean_F8, mean_G1, mean_G2, mean_G3, mean_G4, mean_G5, mean_G6, mean_G7, mean_G8, mean_H1, mean_H2, mean_H3, mean_H4, mean_H5, mean_H6, mean_H7, mean_H8, mean_I1, mean_I2, mean_I3, mean_I4, mean_I5, mean_I6, mean_I7, mean_I8, std_A1, std_A2, std_A3, std_A4, std_A5, std_A6, std_A7, std_A8, std_B1, std_B2, std_B3, std_B4, std_B5, std_B6, std_B7, std_B8, std_C1, std_C2, std_C3, std_C4, std_C5, std_C6, std_C7, std_C8, std_D1, std_D2, std_D3, std_D4, ...]\n",
       "Index: []\n",
       "\n",
       "[0 rows x 289 columns]"
      ]
     },
     "execution_count": 9,
     "metadata": {},
     "output_type": "execute_result"
    }
   ],
   "source": [
    "df[df.isna().any(axis=1)]"
   ]
  },
  {
   "cell_type": "code",
   "execution_count": 10,
   "id": "e2dfdc48",
   "metadata": {
    "execution": {
     "iopub.execute_input": "2024-03-06T09:39:30.201829Z",
     "iopub.status.busy": "2024-03-06T09:39:30.201584Z",
     "iopub.status.idle": "2024-03-06T09:39:30.371060Z",
     "shell.execute_reply": "2024-03-06T09:39:30.370093Z"
    },
    "papermill": {
     "duration": 0.180897,
     "end_time": "2024-03-06T09:39:30.373064",
     "exception": false,
     "start_time": "2024-03-06T09:39:30.192167",
     "status": "completed"
    },
    "tags": []
   },
   "outputs": [
    {
     "data": {
      "text/plain": [
       "mean_A1     16114\n",
       "mean_A2     16901\n",
       "mean_A3     16687\n",
       "mean_A4     17018\n",
       "mean_A5     16451\n",
       "            ...  \n",
       "max_I5        527\n",
       "max_I6        469\n",
       "max_I7        559\n",
       "max_I8        595\n",
       "Chemical       11\n",
       "Length: 289, dtype: int64"
      ]
     },
     "execution_count": 10,
     "metadata": {},
     "output_type": "execute_result"
    }
   ],
   "source": [
    "df.nunique()"
   ]
  },
  {
   "cell_type": "code",
   "execution_count": 11,
   "id": "ed966968",
   "metadata": {
    "execution": {
     "iopub.execute_input": "2024-03-06T09:39:30.391901Z",
     "iopub.status.busy": "2024-03-06T09:39:30.391630Z",
     "iopub.status.idle": "2024-03-06T09:39:30.401348Z",
     "shell.execute_reply": "2024-03-06T09:39:30.400403Z"
    },
    "papermill": {
     "duration": 0.021451,
     "end_time": "2024-03-06T09:39:30.403353",
     "exception": false,
     "start_time": "2024-03-06T09:39:30.381902",
     "status": "completed"
    },
    "tags": []
   },
   "outputs": [
    {
     "data": {
      "text/plain": [
       "Chemical\n",
       "CO_1000              450\n",
       "Butanol_100         1500\n",
       "CO_4000             1571\n",
       "Acetaldehyde_500    1800\n",
       "Benzene_200         1800\n",
       "Ammonia_10000       1800\n",
       "Acetone_2500        1800\n",
       "Ethylene_500        1800\n",
       "Methane_1000        1800\n",
       "Methanol_200        1800\n",
       "Toluene_200         1800\n",
       "Name: count, dtype: int64"
      ]
     },
     "execution_count": 11,
     "metadata": {},
     "output_type": "execute_result"
    }
   ],
   "source": [
    "df['Chemical'].value_counts(ascending=True)"
   ]
  },
  {
   "cell_type": "code",
   "execution_count": 12,
   "id": "80241810",
   "metadata": {
    "execution": {
     "iopub.execute_input": "2024-03-06T09:39:30.422004Z",
     "iopub.status.busy": "2024-03-06T09:39:30.421740Z",
     "iopub.status.idle": "2024-03-06T09:39:30.762658Z",
     "shell.execute_reply": "2024-03-06T09:39:30.761763Z"
    },
    "papermill": {
     "duration": 0.352498,
     "end_time": "2024-03-06T09:39:30.764749",
     "exception": false,
     "start_time": "2024-03-06T09:39:30.412251",
     "status": "completed"
    },
    "tags": []
   },
   "outputs": [
    {
     "data": {
      "image/png": "[encoded data removed]",
      "text/plain": [
       "<Figure size 1000x600 with 1 Axes>"
      ]
     },
     "metadata": {},
     "output_type": "display_data"
    }
   ],
   "source": [
    "# Calculate the value counts\n",
    "value_counts = df[\"Chemical\"].value_counts()\n",
    "\n",
    "# Define colors for each bar\n",
    "colors = ['#1f77b4', '#ff7f0e', '#2ca02c', '#d62728', '#9467bd', '#8c564b', '#e377c2', '#7f7f7f', '#bcbd22', '#17becf', '#ff1493']\n",
    "\n",
    "# Create a bar plot\n",
    "plt.figure(figsize=(10, 6), facecolor='lightgrey')\n",
    "plt.bar(value_counts.index, value_counts, color=colors)\n",
    "\n",
    "# Adding labels and title\n",
    "plt.xlabel('Chemical')\n",
    "plt.ylabel('Count')\n",
    "plt.title('Distribution of Chemical')\n",
    "\n",
    "# Rotating x-axis labels for better visibility\n",
    "plt.xticks(rotation=45, ha='right')\n",
    "\n",
    "# Show plot\n",
    "plt.tight_layout()\n",
    "plt.show()"
   ]
  },
  {
   "cell_type": "code",
   "execution_count": 13,
   "id": "71b7f929",
   "metadata": {
    "execution": {
     "iopub.execute_input": "2024-03-06T09:39:30.785825Z",
     "iopub.status.busy": "2024-03-06T09:39:30.785535Z",
     "iopub.status.idle": "2024-03-06T09:39:31.114652Z",
     "shell.execute_reply": "2024-03-06T09:39:31.113425Z"
    },
    "papermill": {
     "duration": 0.345961,
     "end_time": "2024-03-06T09:39:31.120715",
     "exception": false,
     "start_time": "2024-03-06T09:39:30.774754",
     "status": "completed"
    },
    "tags": []
   },
   "outputs": [
    {
     "data": {
      "image/png": "[encoded data removed]",
      "text/plain": [
       "<Figure size 700x700 with 1 Axes>"
      ]
     },
     "metadata": {},
     "output_type": "display_data"
    }
   ],
   "source": [
    "# Define colors for each wedge\n",
    "colors = ['#ff9999', '#66b3ff', '#99ff99', '#ffcc99', '#c2c2f0', '#ffb3e6', '#ff6666', '#c2f0c2', '#ffb3b3', '#c2f0f0', '#d9c2e5']\n",
    "\n",
    "# Create a pie chart\n",
    "plt.figure(figsize=(7, 7), facecolor='lightgrey')\n",
    "plt.pie(value_counts,\n",
    "        explode=(0, 0, 0, 0, 0, 0, 0, 0, 0, 0, 0),\n",
    "        labels=value_counts.index,\n",
    "        autopct='%1.1f%%',\n",
    "        shadow=True,\n",
    "        startangle=90,\n",
    "        wedgeprops=dict(width=0.6, edgecolor='w'),\n",
    "        colors=colors)  \n",
    "\n",
    "plt.title('Distribution of Chemical')\n",
    "plt.axis('equal') \n",
    "plt.show()"
   ]
  },
  {
   "cell_type": "code",
   "execution_count": 14,
   "id": "5aced89b",
   "metadata": {
    "execution": {
     "iopub.execute_input": "2024-03-06T09:39:31.172114Z",
     "iopub.status.busy": "2024-03-06T09:39:31.171840Z",
     "iopub.status.idle": "2024-03-06T09:39:31.235731Z",
     "shell.execute_reply": "2024-03-06T09:39:31.234842Z"
    },
    "papermill": {
     "duration": 0.091583,
     "end_time": "2024-03-06T09:39:31.237741",
     "exception": false,
     "start_time": "2024-03-06T09:39:31.146158",
     "status": "completed"
    },
    "tags": []
   },
   "outputs": [
    {
     "data": {
      "text/html": [
       "<div>\n",
       "<style scoped>\n",
       "    .dataframe tbody tr th:only-of-type {\n",
       "        vertical-align: middle;\n",
       "    }\n",
       "\n",
       "    .dataframe tbody tr th {\n",
       "        vertical-align: top;\n",
       "    }\n",
       "\n",
       "    .dataframe thead th {\n",
       "        text-align: right;\n",
       "    }\n",
       "</style>\n",
       "<table border=\"1\" class=\"dataframe\">\n",
       "  <thead>\n",
       "    <tr style=\"text-align: right;\">\n",
       "      <th></th>\n",
       "      <th>mean_A1</th>\n",
       "      <th>mean_A2</th>\n",
       "      <th>mean_A3</th>\n",
       "      <th>mean_A4</th>\n",
       "      <th>mean_A5</th>\n",
       "      <th>mean_A6</th>\n",
       "      <th>mean_A7</th>\n",
       "      <th>mean_A8</th>\n",
       "      <th>mean_B1</th>\n",
       "      <th>mean_B2</th>\n",
       "      <th>...</th>\n",
       "      <th>max_H8</th>\n",
       "      <th>max_I1</th>\n",
       "      <th>max_I2</th>\n",
       "      <th>max_I3</th>\n",
       "      <th>max_I4</th>\n",
       "      <th>max_I5</th>\n",
       "      <th>max_I6</th>\n",
       "      <th>max_I7</th>\n",
       "      <th>max_I8</th>\n",
       "      <th>Chemical_Encoded</th>\n",
       "    </tr>\n",
       "  </thead>\n",
       "  <tbody>\n",
       "    <tr>\n",
       "      <th>0</th>\n",
       "      <td>0.110274</td>\n",
       "      <td>0.100774</td>\n",
       "      <td>0.177316</td>\n",
       "      <td>0.081529</td>\n",
       "      <td>0.225642</td>\n",
       "      <td>0.254600</td>\n",
       "      <td>0.250679</td>\n",
       "      <td>0.239913</td>\n",
       "      <td>0.070038</td>\n",
       "      <td>0.088185</td>\n",
       "      <td>...</td>\n",
       "      <td>0.213135</td>\n",
       "      <td>0.074219</td>\n",
       "      <td>0.071777</td>\n",
       "      <td>0.115723</td>\n",
       "      <td>0.097656</td>\n",
       "      <td>0.201172</td>\n",
       "      <td>0.178223</td>\n",
       "      <td>0.232178</td>\n",
       "      <td>0.253662</td>\n",
       "      <td>0</td>\n",
       "    </tr>\n",
       "    <tr>\n",
       "      <th>1</th>\n",
       "      <td>0.114903</td>\n",
       "      <td>0.117785</td>\n",
       "      <td>0.187970</td>\n",
       "      <td>0.097983</td>\n",
       "      <td>0.213534</td>\n",
       "      <td>0.242186</td>\n",
       "      <td>0.238034</td>\n",
       "      <td>0.228992</td>\n",
       "      <td>0.075349</td>\n",
       "      <td>0.104410</td>\n",
       "      <td>...</td>\n",
       "      <td>0.200684</td>\n",
       "      <td>0.079346</td>\n",
       "      <td>0.084229</td>\n",
       "      <td>0.125000</td>\n",
       "      <td>0.107178</td>\n",
       "      <td>0.195557</td>\n",
       "      <td>0.172119</td>\n",
       "      <td>0.225098</td>\n",
       "      <td>0.246826</td>\n",
       "      <td>0</td>\n",
       "    </tr>\n",
       "    <tr>\n",
       "      <th>2</th>\n",
       "      <td>0.118138</td>\n",
       "      <td>0.128888</td>\n",
       "      <td>0.195197</td>\n",
       "      <td>0.110886</td>\n",
       "      <td>0.204072</td>\n",
       "      <td>0.232273</td>\n",
       "      <td>0.229351</td>\n",
       "      <td>0.221341</td>\n",
       "      <td>0.082085</td>\n",
       "      <td>0.122991</td>\n",
       "      <td>...</td>\n",
       "      <td>0.194580</td>\n",
       "      <td>0.084717</td>\n",
       "      <td>0.100098</td>\n",
       "      <td>0.135010</td>\n",
       "      <td>0.132080</td>\n",
       "      <td>0.181396</td>\n",
       "      <td>0.159180</td>\n",
       "      <td>0.210938</td>\n",
       "      <td>0.231445</td>\n",
       "      <td>0</td>\n",
       "    </tr>\n",
       "    <tr>\n",
       "      <th>3</th>\n",
       "      <td>0.123282</td>\n",
       "      <td>0.143118</td>\n",
       "      <td>0.204956</td>\n",
       "      <td>0.127255</td>\n",
       "      <td>0.196539</td>\n",
       "      <td>0.224175</td>\n",
       "      <td>0.220981</td>\n",
       "      <td>0.213877</td>\n",
       "      <td>0.089352</td>\n",
       "      <td>0.139451</td>\n",
       "      <td>...</td>\n",
       "      <td>0.186768</td>\n",
       "      <td>0.088623</td>\n",
       "      <td>0.109375</td>\n",
       "      <td>0.140869</td>\n",
       "      <td>0.148682</td>\n",
       "      <td>0.166992</td>\n",
       "      <td>0.146729</td>\n",
       "      <td>0.197021</td>\n",
       "      <td>0.215576</td>\n",
       "      <td>0</td>\n",
       "    </tr>\n",
       "    <tr>\n",
       "      <th>4</th>\n",
       "      <td>0.130403</td>\n",
       "      <td>0.159920</td>\n",
       "      <td>0.216208</td>\n",
       "      <td>0.146859</td>\n",
       "      <td>0.188552</td>\n",
       "      <td>0.215028</td>\n",
       "      <td>0.211930</td>\n",
       "      <td>0.205568</td>\n",
       "      <td>0.098506</td>\n",
       "      <td>0.157591</td>\n",
       "      <td>...</td>\n",
       "      <td>0.176270</td>\n",
       "      <td>0.091553</td>\n",
       "      <td>0.117676</td>\n",
       "      <td>0.145752</td>\n",
       "      <td>0.161865</td>\n",
       "      <td>0.157227</td>\n",
       "      <td>0.138184</td>\n",
       "      <td>0.185791</td>\n",
       "      <td>0.203369</td>\n",
       "      <td>0</td>\n",
       "    </tr>\n",
       "    <tr>\n",
       "      <th>...</th>\n",
       "      <td>...</td>\n",
       "      <td>...</td>\n",
       "      <td>...</td>\n",
       "      <td>...</td>\n",
       "      <td>...</td>\n",
       "      <td>...</td>\n",
       "      <td>...</td>\n",
       "      <td>...</td>\n",
       "      <td>...</td>\n",
       "      <td>...</td>\n",
       "      <td>...</td>\n",
       "      <td>...</td>\n",
       "      <td>...</td>\n",
       "      <td>...</td>\n",
       "      <td>...</td>\n",
       "      <td>...</td>\n",
       "      <td>...</td>\n",
       "      <td>...</td>\n",
       "      <td>...</td>\n",
       "      <td>...</td>\n",
       "      <td>...</td>\n",
       "    </tr>\n",
       "    <tr>\n",
       "      <th>17916</th>\n",
       "      <td>0.090209</td>\n",
       "      <td>0.081975</td>\n",
       "      <td>0.152585</td>\n",
       "      <td>0.091519</td>\n",
       "      <td>0.197655</td>\n",
       "      <td>0.224110</td>\n",
       "      <td>0.221826</td>\n",
       "      <td>0.213248</td>\n",
       "      <td>0.059393</td>\n",
       "      <td>0.079737</td>\n",
       "      <td>...</td>\n",
       "      <td>0.204102</td>\n",
       "      <td>0.075195</td>\n",
       "      <td>0.076660</td>\n",
       "      <td>0.117676</td>\n",
       "      <td>0.118408</td>\n",
       "      <td>0.185303</td>\n",
       "      <td>0.160889</td>\n",
       "      <td>0.217041</td>\n",
       "      <td>0.238281</td>\n",
       "      <td>10</td>\n",
       "    </tr>\n",
       "    <tr>\n",
       "      <th>17917</th>\n",
       "      <td>0.096285</td>\n",
       "      <td>0.098654</td>\n",
       "      <td>0.164511</td>\n",
       "      <td>0.109453</td>\n",
       "      <td>0.197884</td>\n",
       "      <td>0.225689</td>\n",
       "      <td>0.212466</td>\n",
       "      <td>0.204733</td>\n",
       "      <td>0.065996</td>\n",
       "      <td>0.102331</td>\n",
       "      <td>...</td>\n",
       "      <td>0.197021</td>\n",
       "      <td>0.078613</td>\n",
       "      <td>0.090820</td>\n",
       "      <td>0.125000</td>\n",
       "      <td>0.135986</td>\n",
       "      <td>0.176025</td>\n",
       "      <td>0.152588</td>\n",
       "      <td>0.204834</td>\n",
       "      <td>0.226318</td>\n",
       "      <td>10</td>\n",
       "    </tr>\n",
       "    <tr>\n",
       "      <th>17918</th>\n",
       "      <td>0.100616</td>\n",
       "      <td>0.112874</td>\n",
       "      <td>0.174178</td>\n",
       "      <td>0.129559</td>\n",
       "      <td>0.185512</td>\n",
       "      <td>0.212349</td>\n",
       "      <td>0.199964</td>\n",
       "      <td>0.193657</td>\n",
       "      <td>0.071461</td>\n",
       "      <td>0.117418</td>\n",
       "      <td>...</td>\n",
       "      <td>0.183350</td>\n",
       "      <td>0.080078</td>\n",
       "      <td>0.095947</td>\n",
       "      <td>0.127686</td>\n",
       "      <td>0.146729</td>\n",
       "      <td>0.170166</td>\n",
       "      <td>0.147461</td>\n",
       "      <td>0.200195</td>\n",
       "      <td>0.220703</td>\n",
       "      <td>10</td>\n",
       "    </tr>\n",
       "    <tr>\n",
       "      <th>17919</th>\n",
       "      <td>0.106454</td>\n",
       "      <td>0.128040</td>\n",
       "      <td>0.185289</td>\n",
       "      <td>0.151214</td>\n",
       "      <td>0.175583</td>\n",
       "      <td>0.201057</td>\n",
       "      <td>0.188939</td>\n",
       "      <td>0.183624</td>\n",
       "      <td>0.077144</td>\n",
       "      <td>0.129645</td>\n",
       "      <td>...</td>\n",
       "      <td>0.171387</td>\n",
       "      <td>0.084473</td>\n",
       "      <td>0.106445</td>\n",
       "      <td>0.134521</td>\n",
       "      <td>0.160645</td>\n",
       "      <td>0.162598</td>\n",
       "      <td>0.140869</td>\n",
       "      <td>0.189941</td>\n",
       "      <td>0.209961</td>\n",
       "      <td>10</td>\n",
       "    </tr>\n",
       "    <tr>\n",
       "      <th>17920</th>\n",
       "      <td>0.114415</td>\n",
       "      <td>0.144454</td>\n",
       "      <td>0.197791</td>\n",
       "      <td>0.173428</td>\n",
       "      <td>0.167633</td>\n",
       "      <td>0.191448</td>\n",
       "      <td>0.179640</td>\n",
       "      <td>0.174871</td>\n",
       "      <td>0.085349</td>\n",
       "      <td>0.145381</td>\n",
       "      <td>...</td>\n",
       "      <td>0.161133</td>\n",
       "      <td>0.088379</td>\n",
       "      <td>0.117188</td>\n",
       "      <td>0.140625</td>\n",
       "      <td>0.181152</td>\n",
       "      <td>0.152588</td>\n",
       "      <td>0.132080</td>\n",
       "      <td>0.177734</td>\n",
       "      <td>0.196533</td>\n",
       "      <td>10</td>\n",
       "    </tr>\n",
       "  </tbody>\n",
       "</table>\n",
       "<p>17921 rows × 289 columns</p>\n",
       "</div>"
      ],
      "text/plain": [
       "        mean_A1   mean_A2   mean_A3   mean_A4   mean_A5   mean_A6   mean_A7  \\\n",
       "0      0.110274  0.100774  0.177316  0.081529  0.225642  0.254600  0.250679   \n",
       "1      0.114903  0.117785  0.187970  0.097983  0.213534  0.242186  0.238034   \n",
       "2      0.118138  0.128888  0.195197  0.110886  0.204072  0.232273  0.229351   \n",
       "3      0.123282  0.143118  0.204956  0.127255  0.196539  0.224175  0.220981   \n",
       "4      0.130403  0.159920  0.216208  0.146859  0.188552  0.215028  0.211930   \n",
       "...         ...       ...       ...       ...       ...       ...       ...   \n",
       "17916  0.090209  0.081975  0.152585  0.091519  0.197655  0.224110  0.221826   \n",
       "17917  0.096285  0.098654  0.164511  0.109453  0.197884  0.225689  0.212466   \n",
       "17918  0.100616  0.112874  0.174178  0.129559  0.185512  0.212349  0.199964   \n",
       "17919  0.106454  0.128040  0.185289  0.151214  0.175583  0.201057  0.188939   \n",
       "17920  0.114415  0.144454  0.197791  0.173428  0.167633  0.191448  0.179640   \n",
       "\n",
       "        mean_A8   mean_B1   mean_B2  ...    max_H8    max_I1    max_I2  \\\n",
       "0      0.239913  0.070038  0.088185  ...  0.213135  0.074219  0.071777   \n",
       "1      0.228992  0.075349  0.104410  ...  0.200684  0.079346  0.084229   \n",
       "2      0.221341  0.082085  0.122991  ...  0.194580  0.084717  0.100098   \n",
       "3      0.213877  0.089352  0.139451  ...  0.186768  0.088623  0.109375   \n",
       "4      0.205568  0.098506  0.157591  ...  0.176270  0.091553  0.117676   \n",
       "...         ...       ...       ...  ...       ...       ...       ...   \n",
       "17916  0.213248  0.059393  0.079737  ...  0.204102  0.075195  0.076660   \n",
       "17917  0.204733  0.065996  0.102331  ...  0.197021  0.078613  0.090820   \n",
       "17918  0.193657  0.071461  0.117418  ...  0.183350  0.080078  0.095947   \n",
       "17919  0.183624  0.077144  0.129645  ...  0.171387  0.084473  0.106445   \n",
       "17920  0.174871  0.085349  0.145381  ...  0.161133  0.088379  0.117188   \n",
       "\n",
       "         max_I3    max_I4    max_I5    max_I6    max_I7    max_I8  \\\n",
       "0      0.115723  0.097656  0.201172  0.178223  0.232178  0.253662   \n",
       "1      0.125000  0.107178  0.195557  0.172119  0.225098  0.246826   \n",
       "2      0.135010  0.132080  0.181396  0.159180  0.210938  0.231445   \n",
       "3      0.140869  0.148682  0.166992  0.146729  0.197021  0.215576   \n",
       "4      0.145752  0.161865  0.157227  0.138184  0.185791  0.203369   \n",
       "...         ...       ...       ...       ...       ...       ...   \n",
       "17916  0.117676  0.118408  0.185303  0.160889  0.217041  0.238281   \n",
       "17917  0.125000  0.135986  0.176025  0.152588  0.204834  0.226318   \n",
       "17918  0.127686  0.146729  0.170166  0.147461  0.200195  0.220703   \n",
       "17919  0.134521  0.160645  0.162598  0.140869  0.189941  0.209961   \n",
       "17920  0.140625  0.181152  0.152588  0.132080  0.177734  0.196533   \n",
       "\n",
       "       Chemical_Encoded  \n",
       "0                     0  \n",
       "1                     0  \n",
       "2                     0  \n",
       "3                     0  \n",
       "4                     0  \n",
       "...                 ...  \n",
       "17916                10  \n",
       "17917                10  \n",
       "17918                10  \n",
       "17919                10  \n",
       "17920                10  \n",
       "\n",
       "[17921 rows x 289 columns]"
      ]
     },
     "execution_count": 14,
     "metadata": {},
     "output_type": "execute_result"
    }
   ],
   "source": [
    "t_df = df.copy()\n",
    "label_encoder = LabelEncoder()\n",
    "t_df['Chemical_Encoded'] = label_encoder.fit_transform(t_df['Chemical'])\n",
    "t_df = t_df.drop(columns=['Chemical'])\n",
    "t_df"
   ]
  },
  {
   "cell_type": "code",
   "execution_count": 15,
   "id": "ea60a997",
   "metadata": {
    "execution": {
     "iopub.execute_input": "2024-03-06T09:39:31.262317Z",
     "iopub.status.busy": "2024-03-06T09:39:31.261320Z",
     "iopub.status.idle": "2024-03-06T09:39:31.277704Z",
     "shell.execute_reply": "2024-03-06T09:39:31.276717Z"
    },
    "papermill": {
     "duration": 0.030301,
     "end_time": "2024-03-06T09:39:31.279505",
     "exception": false,
     "start_time": "2024-03-06T09:39:31.249204",
     "status": "completed"
    },
    "tags": []
   },
   "outputs": [
    {
     "name": "stdout",
     "output_type": "stream",
     "text": [
      "Actual and Labeled Data:\n",
      "            Chemical  Encoded_Value\n",
      "0   Acetaldehyde_500              0\n",
      "1       Acetone_2500              1\n",
      "2      Ammonia_10000              2\n",
      "3        Benzene_200              3\n",
      "4       Methanol_200              9\n",
      "5       Methane_1000              8\n",
      "6       Ethylene_500              7\n",
      "7        Toluene_200             10\n",
      "8            CO_4000              6\n",
      "9        Butanol_100              4\n",
      "10           CO_1000              5\n"
     ]
    }
   ],
   "source": [
    "# Get value counts for both original and encoded columns\n",
    "value_counts_original = df['Chemical'].value_counts().reset_index()\n",
    "value_counts_original.columns = ['Chemical', 'Original_Value_Count']\n",
    "\n",
    "value_counts_encoded = t_df['Chemical_Encoded'].value_counts().reset_index()\n",
    "value_counts_encoded.columns = ['Encoded_Value', 'Encoded_Value_Count']\n",
    "\n",
    "# Concatenate the actual and encoded data along with their value counts\n",
    "summary_df = pd.concat([value_counts_original, value_counts_encoded], axis=1)\n",
    "summary_df = summary_df.drop(columns=['Original_Value_Count', 'Encoded_Value_Count'])\n",
    "\n",
    "print(\"Actual and Labeled Data:\")\n",
    "print(summary_df)"
   ]
  },
  {
   "cell_type": "markdown",
   "id": "468e90a6",
   "metadata": {
    "papermill": {
     "duration": 0.01122,
     "end_time": "2024-03-06T09:39:31.302015",
     "exception": false,
     "start_time": "2024-03-06T09:39:31.290795",
     "status": "completed"
    },
    "tags": []
   },
   "source": [
    "**The encoded column 'Chemical'**:\n",
    "* Acetaldehyde_500 -> 0\n",
    "* Acetone_2500     -> 1\n",
    "* Ammonia_10000    -> 2\n",
    "* Benzene_200      -> 3\n",
    "* Butanol_100      -> 4\n",
    "* CO_1000          -> 5\n",
    "* CO_4000          -> 6\n",
    "* Ethylene_500     -> 7\n",
    "* Methane_1000     -> 8\n",
    "* Methanol_200     -> 9\n",
    "* Toluene_200      -> 10"
   ]
  },
  {
   "cell_type": "markdown",
   "id": "12421274",
   "metadata": {
    "papermill": {
     "duration": 0.011104,
     "end_time": "2024-03-06T09:39:31.324349",
     "exception": false,
     "start_time": "2024-03-06T09:39:31.313245",
     "status": "completed"
    },
    "tags": []
   },
   "source": [
    "# **Dataset Preprocessing**\n",
    "---"
   ]
  },
  {
   "cell_type": "code",
   "execution_count": 16,
   "id": "f84213ae",
   "metadata": {
    "execution": {
     "iopub.execute_input": "2024-03-06T09:39:31.348446Z",
     "iopub.status.busy": "2024-03-06T09:39:31.347854Z",
     "iopub.status.idle": "2024-03-06T09:39:31.397883Z",
     "shell.execute_reply": "2024-03-06T09:39:31.397127Z"
    },
    "papermill": {
     "duration": 0.064582,
     "end_time": "2024-03-06T09:39:31.400252",
     "exception": false,
     "start_time": "2024-03-06T09:39:31.335670",
     "status": "completed"
    },
    "tags": []
   },
   "outputs": [],
   "source": [
    "# Column 'Chemical' is the target variable\n",
    "X = df.drop(['Chemical'], axis=1)\n",
    "y = df['Chemical']\n",
    "\n",
    "# Fit and transform the target variable\n",
    "label_encoder = LabelEncoder()\n",
    "y = label_encoder.fit_transform(y)\n",
    "\n",
    "# Split the data into training and testing sets\n",
    "X_train, X_test, y_train, y_test = train_test_split(X, y, test_size=0.2, random_state=42)"
   ]
  },
  {
   "cell_type": "markdown",
   "id": "c7ad0aad",
   "metadata": {
    "papermill": {
     "duration": 0.011965,
     "end_time": "2024-03-06T09:39:31.424369",
     "exception": false,
     "start_time": "2024-03-06T09:39:31.412404",
     "status": "completed"
    },
    "tags": []
   },
   "source": [
    "# **Model Building**\n",
    "---"
   ]
  },
  {
   "cell_type": "code",
   "execution_count": 17,
   "id": "2c9f8704",
   "metadata": {
    "execution": {
     "iopub.execute_input": "2024-03-06T09:39:31.448754Z",
     "iopub.status.busy": "2024-03-06T09:39:31.448429Z",
     "iopub.status.idle": "2024-03-06T09:39:48.446582Z",
     "shell.execute_reply": "2024-03-06T09:39:48.445738Z"
    },
    "papermill": {
     "duration": 17.012661,
     "end_time": "2024-03-06T09:39:48.448730",
     "exception": false,
     "start_time": "2024-03-06T09:39:31.436069",
     "status": "completed"
    },
    "tags": []
   },
   "outputs": [
    {
     "data": {
      "text/html": [
       "<style>#sk-container-id-1 {color: black;background-color: white;}#sk-container-id-1 pre{padding: 0;}#sk-container-id-1 div.sk-toggleable {background-color: white;}#sk-container-id-1 label.sk-toggleable__label {cursor: pointer;display: block;width: 100%;margin-bottom: 0;padding: 0.3em;box-sizing: border-box;text-align: center;}#sk-container-id-1 label.sk-toggleable__label-arrow:before {content: \"▸\";float: left;margin-right: 0.25em;color: #696969;}#sk-container-id-1 label.sk-toggleable__label-arrow:hover:before {color: black;}#sk-container-id-1 div.sk-estimator:hover label.sk-toggleable__label-arrow:before {color: black;}#sk-container-id-1 div.sk-toggleable__content {max-height: 0;max-width: 0;overflow: hidden;text-align: left;background-color: #f0f8ff;}#sk-container-id-1 div.sk-toggleable__content pre {margin: 0.2em;color: black;border-radius: 0.25em;background-color: #f0f8ff;}#sk-container-id-1 input.sk-toggleable__control:checked~div.sk-toggleable__content {max-height: 200px;max-width: 100%;overflow: auto;}#sk-container-id-1 input.sk-toggleable__control:checked~label.sk-toggleable__label-arrow:before {content: \"▾\";}#sk-container-id-1 div.sk-estimator input.sk-toggleable__control:checked~label.sk-toggleable__label {background-color: #d4ebff;}#sk-container-id-1 div.sk-label input.sk-toggleable__control:checked~label.sk-toggleable__label {background-color: #d4ebff;}#sk-container-id-1 input.sk-hidden--visually {border: 0;clip: rect(1px 1px 1px 1px);clip: rect(1px, 1px, 1px, 1px);height: 1px;margin: -1px;overflow: hidden;padding: 0;position: absolute;width: 1px;}#sk-container-id-1 div.sk-estimator {font-family: monospace;background-color: #f0f8ff;border: 1px dotted black;border-radius: 0.25em;box-sizing: border-box;margin-bottom: 0.5em;}#sk-container-id-1 div.sk-estimator:hover {background-color: #d4ebff;}#sk-container-id-1 div.sk-parallel-item::after {content: \"\";width: 100%;border-bottom: 1px solid gray;flex-grow: 1;}#sk-container-id-1 div.sk-label:hover label.sk-toggleable__label {background-color: #d4ebff;}#sk-container-id-1 div.sk-serial::before {content: \"\";position: absolute;border-left: 1px solid gray;box-sizing: border-box;top: 0;bottom: 0;left: 50%;z-index: 0;}#sk-container-id-1 div.sk-serial {display: flex;flex-direction: column;align-items: center;background-color: white;padding-right: 0.2em;padding-left: 0.2em;position: relative;}#sk-container-id-1 div.sk-item {position: relative;z-index: 1;}#sk-container-id-1 div.sk-parallel {display: flex;align-items: stretch;justify-content: center;background-color: white;position: relative;}#sk-container-id-1 div.sk-item::before, #sk-container-id-1 div.sk-parallel-item::before {content: \"\";position: absolute;border-left: 1px solid gray;box-sizing: border-box;top: 0;bottom: 0;left: 50%;z-index: -1;}#sk-container-id-1 div.sk-parallel-item {display: flex;flex-direction: column;z-index: 1;position: relative;background-color: white;}#sk-container-id-1 div.sk-parallel-item:first-child::after {align-self: flex-end;width: 50%;}#sk-container-id-1 div.sk-parallel-item:last-child::after {align-self: flex-start;width: 50%;}#sk-container-id-1 div.sk-parallel-item:only-child::after {width: 0;}#sk-container-id-1 div.sk-dashed-wrapped {border: 1px dashed gray;margin: 0 0.4em 0.5em 0.4em;box-sizing: border-box;padding-bottom: 0.4em;background-color: white;}#sk-container-id-1 div.sk-label label {font-family: monospace;font-weight: bold;display: inline-block;line-height: 1.2em;}#sk-container-id-1 div.sk-label-container {text-align: center;}#sk-container-id-1 div.sk-container {/* jupyter's `normalize.less` sets `[hidden] { display: none; }` but bootstrap.min.css set `[hidden] { display: none !important; }` so we also need the `!important` here to be able to override the default hidden behavior on the sphinx rendered scikit-learn.org. See: https://github.com/scikit-learn/scikit-learn/issues/21755 */display: inline-block !important;position: relative;}#sk-container-id-1 div.sk-text-repr-fallback {display: none;}</style><div id=\"sk-container-id-1\" class=\"sk-top-container\"><div class=\"sk-text-repr-fallback\"><pre>RandomForestClassifier(random_state=42)</pre><b>In a Jupyter environment, please rerun this cell to show the HTML representation or trust the notebook. <br />On GitHub, the HTML representation is unable to render, please try loading this page with nbviewer.org.</b></div><div class=\"sk-container\" hidden><div class=\"sk-item\"><div class=\"sk-estimator sk-toggleable\"><input class=\"sk-toggleable__control sk-hidden--visually\" id=\"sk-estimator-id-1\" type=\"checkbox\" checked><label for=\"sk-estimator-id-1\" class=\"sk-toggleable__label sk-toggleable__label-arrow\">RandomForestClassifier</label><div class=\"sk-toggleable__content\"><pre>RandomForestClassifier(random_state=42)</pre></div></div></div></div></div>"
      ],
      "text/plain": [
       "RandomForestClassifier(random_state=42)"
      ]
     },
     "execution_count": 17,
     "metadata": {},
     "output_type": "execute_result"
    }
   ],
   "source": [
    "# Initialize Machine Learning Model (Random Forest Classifier)\n",
    "rf_classifier = RandomForestClassifier(n_estimators=100, random_state=42)\n",
    "rf_classifier.fit(X_train, y_train)"
   ]
  },
  {
   "cell_type": "code",
   "execution_count": 18,
   "id": "033edf1a",
   "metadata": {
    "execution": {
     "iopub.execute_input": "2024-03-06T09:39:48.473660Z",
     "iopub.status.busy": "2024-03-06T09:39:48.473363Z",
     "iopub.status.idle": "2024-03-06T09:39:48.811599Z",
     "shell.execute_reply": "2024-03-06T09:39:48.810626Z"
    },
    "papermill": {
     "duration": 0.353435,
     "end_time": "2024-03-06T09:39:48.814227",
     "exception": false,
     "start_time": "2024-03-06T09:39:48.460792",
     "status": "completed"
    },
    "tags": []
   },
   "outputs": [],
   "source": [
    "# Making predictions for train and test data\n",
    "y_pred_train = rf_classifier.predict(X_train)\n",
    "y_pred_test = rf_classifier.predict(X_test)"
   ]
  },
  {
   "cell_type": "markdown",
   "id": "8b3ebf4f",
   "metadata": {
    "papermill": {
     "duration": 0.011285,
     "end_time": "2024-03-06T09:39:48.837722",
     "exception": false,
     "start_time": "2024-03-06T09:39:48.826437",
     "status": "completed"
    },
    "tags": []
   },
   "source": [
    "# **Model Evaluation**\n",
    "---"
   ]
  },
  {
   "cell_type": "code",
   "execution_count": 19,
   "id": "dd5c0637",
   "metadata": {
    "execution": {
     "iopub.execute_input": "2024-03-06T09:39:48.862375Z",
     "iopub.status.busy": "2024-03-06T09:39:48.862038Z",
     "iopub.status.idle": "2024-03-06T09:39:49.490045Z",
     "shell.execute_reply": "2024-03-06T09:39:49.488916Z"
    },
    "papermill": {
     "duration": 0.642464,
     "end_time": "2024-03-06T09:39:49.491957",
     "exception": false,
     "start_time": "2024-03-06T09:39:48.849493",
     "status": "completed"
    },
    "tags": []
   },
   "outputs": [
    {
     "data": {
      "image/png": "[encoded data removed]",
      "text/plain": [
       "<Figure size 1000x1000 with 2 Axes>"
      ]
     },
     "metadata": {},
     "output_type": "display_data"
    },
    {
     "name": "stdout",
     "output_type": "stream",
     "text": [
      "Train Accuracy: 100.0 %\n",
      "              precision    recall  f1-score   support\n",
      "\n",
      "           0       1.00      1.00      1.00      1441\n",
      "           1       1.00      1.00      1.00      1435\n",
      "           2       1.00      1.00      1.00      1450\n",
      "           3       1.00      1.00      1.00      1445\n",
      "           4       1.00      1.00      1.00      1182\n",
      "           5       1.00      1.00      1.00       364\n",
      "           6       1.00      1.00      1.00      1216\n",
      "           7       1.00      1.00      1.00      1425\n",
      "           8       1.00      1.00      1.00      1460\n",
      "           9       1.00      1.00      1.00      1438\n",
      "          10       1.00      1.00      1.00      1480\n",
      "\n",
      "    accuracy                           1.00     14336\n",
      "   macro avg       1.00      1.00      1.00     14336\n",
      "weighted avg       1.00      1.00      1.00     14336\n",
      "\n"
     ]
    }
   ],
   "source": [
    "# Plot the confusion matrix\n",
    "train_conf_matrix = confusion_matrix(y_train, y_pred_train, normalize='true')\n",
    "plt.figure(figsize=(10, 10), facecolor='lightgrey')\n",
    "sns.heatmap(train_conf_matrix, annot=True,cmap=['lightsteelblue','navajowhite'])\n",
    "plt.title('Normalized Confusion Matrix')\n",
    "plt.xlabel('Predicted Label')\n",
    "plt.ylabel('Actual Label')\n",
    "plt.tight_layout()\n",
    "plt.show()\n",
    "\n",
    "train_accuracy = accuracy_score(y_train, y_pred_train)\n",
    "train_classification_rep = classification_report(y_train, y_pred_train)\n",
    "\n",
    "print(f\"Train Accuracy: {train_accuracy*100} %\")\n",
    "print(train_classification_rep)"
   ]
  },
  {
   "cell_type": "code",
   "execution_count": 20,
   "id": "81af4de8",
   "metadata": {
    "execution": {
     "iopub.execute_input": "2024-03-06T09:39:49.518119Z",
     "iopub.status.busy": "2024-03-06T09:39:49.517843Z",
     "iopub.status.idle": "2024-03-06T09:39:50.194241Z",
     "shell.execute_reply": "2024-03-06T09:39:50.193141Z"
    },
    "papermill": {
     "duration": 0.691681,
     "end_time": "2024-03-06T09:39:50.196113",
     "exception": false,
     "start_time": "2024-03-06T09:39:49.504432",
     "status": "completed"
    },
    "tags": []
   },
   "outputs": [
    {
     "data": {
      "image/png": "[encoded data removed]",
      "text/plain": [
       "<Figure size 1000x1000 with 2 Axes>"
      ]
     },
     "metadata": {},
     "output_type": "display_data"
    },
    {
     "name": "stdout",
     "output_type": "stream",
     "text": [
      "Test Accuracy: 99.55369595536959 %\n",
      "              precision    recall  f1-score   support\n",
      "\n",
      "           0       0.99      1.00      1.00       359\n",
      "           1       1.00      1.00      1.00       365\n",
      "           2       0.99      1.00      1.00       350\n",
      "           3       1.00      1.00      1.00       355\n",
      "           4       0.99      0.99      0.99       318\n",
      "           5       1.00      1.00      1.00        86\n",
      "           6       1.00      0.99      0.99       355\n",
      "           7       1.00      0.99      0.99       375\n",
      "           8       1.00      1.00      1.00       340\n",
      "           9       0.99      1.00      0.99       362\n",
      "          10       0.99      1.00      0.99       320\n",
      "\n",
      "    accuracy                           1.00      3585\n",
      "   macro avg       1.00      1.00      1.00      3585\n",
      "weighted avg       1.00      1.00      1.00      3585\n",
      "\n"
     ]
    }
   ],
   "source": [
    "# Plot the confusion matrix\n",
    "test_conf_matrix = confusion_matrix(y_test, y_pred_test, normalize='true')\n",
    "plt.figure(figsize=(10, 10), facecolor='lightgrey')\n",
    "sns.heatmap(test_conf_matrix, annot=True,cmap=['lightsteelblue','navajowhite'])\n",
    "plt.title('Normalized Confusion Matrix')\n",
    "plt.xlabel('Predicted Label')\n",
    "plt.ylabel('Actual Label')\n",
    "plt.tight_layout()\n",
    "plt.show()\n",
    "\n",
    "test_accuracy = accuracy_score(y_test, y_pred_test)\n",
    "test_classification_rep = classification_report(y_test, y_pred_test)\n",
    "\n",
    "print(f\"Test Accuracy: {test_accuracy*100} %\")\n",
    "print(test_classification_rep)"
   ]
  },
  {
   "cell_type": "code",
   "execution_count": 21,
   "id": "d1f6dce7",
   "metadata": {
    "execution": {
     "iopub.execute_input": "2024-03-06T09:39:50.224081Z",
     "iopub.status.busy": "2024-03-06T09:39:50.223785Z",
     "iopub.status.idle": "2024-03-06T09:39:50.237244Z",
     "shell.execute_reply": "2024-03-06T09:39:50.236448Z"
    },
    "papermill": {
     "duration": 0.029591,
     "end_time": "2024-03-06T09:39:50.239116",
     "exception": false,
     "start_time": "2024-03-06T09:39:50.209525",
     "status": "completed"
    },
    "tags": []
   },
   "outputs": [
    {
     "data": {
      "text/html": [
       "<div>\n",
       "<style scoped>\n",
       "    .dataframe tbody tr th:only-of-type {\n",
       "        vertical-align: middle;\n",
       "    }\n",
       "\n",
       "    .dataframe tbody tr th {\n",
       "        vertical-align: top;\n",
       "    }\n",
       "\n",
       "    .dataframe thead th {\n",
       "        text-align: right;\n",
       "    }\n",
       "</style>\n",
       "<table border=\"1\" class=\"dataframe\">\n",
       "  <thead>\n",
       "    <tr style=\"text-align: right;\">\n",
       "      <th></th>\n",
       "      <th>Actual</th>\n",
       "      <th>Predicted</th>\n",
       "    </tr>\n",
       "  </thead>\n",
       "  <tbody>\n",
       "    <tr>\n",
       "      <th>391</th>\n",
       "      <td>CO_4000</td>\n",
       "      <td>Toluene_200</td>\n",
       "    </tr>\n",
       "    <tr>\n",
       "      <th>632</th>\n",
       "      <td>CO_4000</td>\n",
       "      <td>Ammonia_10000</td>\n",
       "    </tr>\n",
       "    <tr>\n",
       "      <th>641</th>\n",
       "      <td>Butanol_100</td>\n",
       "      <td>Toluene_200</td>\n",
       "    </tr>\n",
       "    <tr>\n",
       "      <th>653</th>\n",
       "      <td>CO_4000</td>\n",
       "      <td>Ammonia_10000</td>\n",
       "    </tr>\n",
       "    <tr>\n",
       "      <th>853</th>\n",
       "      <td>Ethylene_500</td>\n",
       "      <td>Butanol_100</td>\n",
       "    </tr>\n",
       "    <tr>\n",
       "      <th>864</th>\n",
       "      <td>Ethylene_500</td>\n",
       "      <td>Butanol_100</td>\n",
       "    </tr>\n",
       "    <tr>\n",
       "      <th>921</th>\n",
       "      <td>Butanol_100</td>\n",
       "      <td>Methanol_200</td>\n",
       "    </tr>\n",
       "    <tr>\n",
       "      <th>1041</th>\n",
       "      <td>Toluene_200</td>\n",
       "      <td>Benzene_200</td>\n",
       "    </tr>\n",
       "    <tr>\n",
       "      <th>1536</th>\n",
       "      <td>CO_4000</td>\n",
       "      <td>Toluene_200</td>\n",
       "    </tr>\n",
       "    <tr>\n",
       "      <th>1836</th>\n",
       "      <td>Ethylene_500</td>\n",
       "      <td>Methanol_200</td>\n",
       "    </tr>\n",
       "    <tr>\n",
       "      <th>2156</th>\n",
       "      <td>Acetone_2500</td>\n",
       "      <td>Acetaldehyde_500</td>\n",
       "    </tr>\n",
       "    <tr>\n",
       "      <th>2266</th>\n",
       "      <td>Butanol_100</td>\n",
       "      <td>CO_4000</td>\n",
       "    </tr>\n",
       "    <tr>\n",
       "      <th>2643</th>\n",
       "      <td>Methanol_200</td>\n",
       "      <td>Acetaldehyde_500</td>\n",
       "    </tr>\n",
       "    <tr>\n",
       "      <th>2811</th>\n",
       "      <td>Ethylene_500</td>\n",
       "      <td>Methanol_200</td>\n",
       "    </tr>\n",
       "    <tr>\n",
       "      <th>2935</th>\n",
       "      <td>Butanol_100</td>\n",
       "      <td>Methanol_200</td>\n",
       "    </tr>\n",
       "    <tr>\n",
       "      <th>3133</th>\n",
       "      <td>Ethylene_500</td>\n",
       "      <td>Methanol_200</td>\n",
       "    </tr>\n",
       "  </tbody>\n",
       "</table>\n",
       "</div>"
      ],
      "text/plain": [
       "            Actual         Predicted\n",
       "391        CO_4000       Toluene_200\n",
       "632        CO_4000     Ammonia_10000\n",
       "641    Butanol_100       Toluene_200\n",
       "653        CO_4000     Ammonia_10000\n",
       "853   Ethylene_500       Butanol_100\n",
       "864   Ethylene_500       Butanol_100\n",
       "921    Butanol_100      Methanol_200\n",
       "1041   Toluene_200       Benzene_200\n",
       "1536       CO_4000       Toluene_200\n",
       "1836  Ethylene_500      Methanol_200\n",
       "2156  Acetone_2500  Acetaldehyde_500\n",
       "2266   Butanol_100           CO_4000\n",
       "2643  Methanol_200  Acetaldehyde_500\n",
       "2811  Ethylene_500      Methanol_200\n",
       "2935   Butanol_100      Methanol_200\n",
       "3133  Ethylene_500      Methanol_200"
      ]
     },
     "execution_count": 21,
     "metadata": {},
     "output_type": "execute_result"
    }
   ],
   "source": [
    "# Inverse transform numerical labels back to string labels\n",
    "y_test_actual = label_encoder.inverse_transform(y_test)\n",
    "y_test_predicted = label_encoder.inverse_transform(y_pred_test)\n",
    "\n",
    "# Create a new DataFrame for test data and predictions\n",
    "test_df = pd.DataFrame({'Actual': y_test_actual, 'Predicted': y_test_predicted})\n",
    "test_df[test_df.Actual != test_df.Predicted]"
   ]
  }
 ],
 "metadata": {
  "kaggle": {
   "accelerator": "nvidiaTeslaT4",
   "dataSources": [
    {
     "datasetId": 4536937,
     "sourceId": 7773757,
     "sourceType": "datasetVersion"
    }
   ],
   "dockerImageVersionId": 30665,
   "isGpuEnabled": true,
   "isInternetEnabled": true,
   "language": "python",
   "sourceType": "notebook"
  },
  "kernelspec": {
   "display_name": "Python 3",
   "language": "python",
   "name": "python3"
  },
  "language_info": {
   "codemirror_mode": {
    "name": "ipython",
    "version": 3
   },
   "file_extension": ".py",
   "mimetype": "text/x-python",
   "name": "python",
   "nbconvert_exporter": "python",
   "pygments_lexer": "ipython3",
   "version": "3.10.13"
  },
  "papermill": {
   "default_parameters": {},
   "duration": 32.005508,
   "end_time": "2024-03-06T09:39:50.770486",
   "environment_variables": {},
   "exception": null,
   "input_path": "__notebook__.ipynb",
   "output_path": "__notebook__.ipynb",
   "parameters": {},
   "start_time": "2024-03-06T09:39:18.764978",
   "version": "2.5.0"
  }
 },
 "nbformat": 4,
 "nbformat_minor": 5
}
